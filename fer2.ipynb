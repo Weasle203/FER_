{
  "nbformat": 4,
  "nbformat_minor": 0,
  "metadata": {
    "colab": {
      "name": "fer.ipynb",
      "version": "0.3.2",
      "provenance": [],
      "collapsed_sections": []
    },
    "kernelspec": {
      "name": "python3",
      "display_name": "Python 3"
    },
    "accelerator": "GPU"
  },
  "cells": [
    {
      "cell_type": "code",
      "metadata": {
        "id": "DEr0-tcq4vYD",
        "colab_type": "code",
        "outputId": "15af2fa9-7b41-48b9-eac7-bfe52945d20f",
        "colab": {
          "base_uri": "https://localhost:8080/",
          "height": 124
        }
      },
      "source": [
        "from google.colab import drive\n",
        "drive.mount('/content/drive')\n"
      ],
      "execution_count": 2,
      "outputs": [
        {
          "output_type": "stream",
          "text": [
            "Go to this URL in a browser: https://accounts.google.com/o/oauth2/auth?client_id=947318989803-6bn6qk8qdgf4n4g3pfee6491hc0brc4i.apps.googleusercontent.com&redirect_uri=urn%3Aietf%3Awg%3Aoauth%3A2.0%3Aoob&scope=email%20https%3A%2F%2Fwww.googleapis.com%2Fauth%2Fdocs.test%20https%3A%2F%2Fwww.googleapis.com%2Fauth%2Fdrive%20https%3A%2F%2Fwww.googleapis.com%2Fauth%2Fdrive.photos.readonly%20https%3A%2F%2Fwww.googleapis.com%2Fauth%2Fpeopleapi.readonly&response_type=code\n",
            "\n",
            "Enter your authorization code:\n",
            "··········\n",
            "Mounted at /content/drive\n"
          ],
          "name": "stdout"
        }
      ]
    },
    {
      "cell_type": "code",
      "metadata": {
        "id": "shf64GdF5P2f",
        "colab_type": "code",
        "outputId": "6c506c96-84cb-4a3b-af07-1e0d73e02420",
        "colab": {
          "base_uri": "https://localhost:8080/",
          "height": 34
        }
      },
      "source": [
        "cd \"/content/drive/My Drive/fer\"\n"
      ],
      "execution_count": 3,
      "outputs": [
        {
          "output_type": "stream",
          "text": [
            "/content/drive/My Drive/fer\n"
          ],
          "name": "stdout"
        }
      ]
    },
    {
      "cell_type": "code",
      "metadata": {
        "id": "E-k88HB65npZ",
        "colab_type": "code",
        "outputId": "3e23f707-5da3-46ea-866d-8103ea7d7b96",
        "colab": {
          "base_uri": "https://localhost:8080/",
          "height": 52
        }
      },
      "source": [
        "ls"
      ],
      "execution_count": 4,
      "outputs": [
        {
          "output_type": "stream",
          "text": [
            "\u001b[0m\u001b[01;34mcml\u001b[0m/            fer_data.npz  final.py        nparrayconverter.py\n",
            "ferCnnKeras.py  fer.ipynb     modelLoader.py  saved_model.h5\n"
          ],
          "name": "stdout"
        }
      ]
    },
    {
      "cell_type": "code",
      "metadata": {
        "id": "3VhztK8agvoe",
        "colab_type": "code",
        "outputId": "c3268783-7e14-44a4-8886-2ed062b031c6",
        "colab": {
          "base_uri": "https://localhost:8080/",
          "height": 34
        }
      },
      "source": [
        "import tensorflow as tf\n",
        "tf.test.gpu_device_name()"
      ],
      "execution_count": 5,
      "outputs": [
        {
          "output_type": "execute_result",
          "data": {
            "text/plain": [
              "'/device:GPU:0'"
            ]
          },
          "metadata": {
            "tags": []
          },
          "execution_count": 5
        }
      ]
    },
    {
      "cell_type": "code",
      "metadata": {
        "id": "2Qkq7_fJgzPY",
        "colab_type": "code",
        "outputId": "dfdd8de7-61e7-453b-d5a2-5b0ffee519db",
        "colab": {
          "base_uri": "https://localhost:8080/",
          "height": 228
        }
      },
      "source": [
        "!ln -sf /opt/bin/nvidia-smi /usr/bin/nvidia-smi\n",
        "!pip install gputil\n",
        "!pip install psutil\n",
        "!pip install humanize"
      ],
      "execution_count": 6,
      "outputs": [
        {
          "output_type": "stream",
          "text": [
            "Collecting gputil\n",
            "  Downloading https://files.pythonhosted.org/packages/ed/0e/5c61eedde9f6c87713e89d794f01e378cfd9565847d4576fa627d758c554/GPUtil-1.4.0.tar.gz\n",
            "Building wheels for collected packages: gputil\n",
            "  Building wheel for gputil (setup.py) ... \u001b[?25l\u001b[?25hdone\n",
            "  Created wheel for gputil: filename=GPUtil-1.4.0-cp36-none-any.whl size=7410 sha256=8f300b2d847121a22a175adcff1a516ee3a613e9e1fe697b6796e232b2b07319\n",
            "  Stored in directory: /root/.cache/pip/wheels/3d/77/07/80562de4bb0786e5ea186911a2c831fdd0018bda69beab71fd\n",
            "Successfully built gputil\n",
            "Installing collected packages: gputil\n",
            "Successfully installed gputil-1.4.0\n",
            "Requirement already satisfied: psutil in /usr/local/lib/python3.6/dist-packages (5.4.8)\n",
            "Requirement already satisfied: humanize in /usr/local/lib/python3.6/dist-packages (0.5.1)\n"
          ],
          "name": "stdout"
        }
      ]
    },
    {
      "cell_type": "code",
      "metadata": {
        "id": "WdSlZvn3g4tG",
        "colab_type": "code",
        "outputId": "3b8a635f-8dfa-4019-9115-22d0b7f8d616",
        "colab": {
          "base_uri": "https://localhost:8080/",
          "height": 52
        }
      },
      "source": [
        "import psutil\n",
        "import humanize\n",
        "import os\n",
        "import GPUtil as GPU\n",
        "\n",
        "GPUs = GPU.getGPUs()\n",
        "gpu = GPUs[0]\n",
        "def printm():\n",
        " process = psutil.Process(os.getpid())\n",
        " print(\"Gen RAM Free: \" + humanize.naturalsize( psutil.virtual_memory().available ), \" | Proc size: \" + humanize.naturalsize( process.memory_info().rss))\n",
        " print(\"GPU RAM Free: {0:.0f}MB | Used: {1:.0f}MB | Util {2:3.0f}% | Total {3:.0f}MB\".format(gpu.memoryFree, gpu.memoryUsed, gpu.memoryUtil*100, gpu.memoryTotal))\n",
        "printm()"
      ],
      "execution_count": 7,
      "outputs": [
        {
          "output_type": "stream",
          "text": [
            "Gen RAM Free: 12.6 GB  | Proc size: 443.2 MB\n",
            "GPU RAM Free: 11372MB | Used: 69MB | Util   1% | Total 11441MB\n"
          ],
          "name": "stdout"
        }
      ]
    },
    {
      "cell_type": "code",
      "metadata": {
        "id": "A3F8qNrfhK70",
        "colab_type": "code",
        "outputId": "c65ba199-c442-4723-e11e-1937f2bb8373",
        "colab": {
          "base_uri": "https://localhost:8080/",
          "height": 34
        }
      },
      "source": [
        "import numpy as np\n",
        "from keras.layers import Conv2D,MaxPooling2D,Reshape\n",
        "from keras.models import Sequential\n",
        "from keras.layers import InputLayer\n",
        "from keras.layers import Dense,Flatten,BatchNormalization\n",
        "from keras.optimizers import Adam\n",
        "from keras.layers import Dropout\n",
        "import matplotlib.pyplot as plt\n",
        "from keras.regularizers import l2"
      ],
      "execution_count": 8,
      "outputs": [
        {
          "output_type": "stream",
          "text": [
            "Using TensorFlow backend.\n"
          ],
          "name": "stderr"
        }
      ]
    },
    {
      "cell_type": "code",
      "metadata": {
        "id": "aUPl0_HkhyDZ",
        "colab_type": "code",
        "colab": {}
      },
      "source": [
        "import gc"
      ],
      "execution_count": 0,
      "outputs": []
    },
    {
      "cell_type": "code",
      "metadata": {
        "id": "sA3FkftPh4FG",
        "colab_type": "code",
        "outputId": "86016382-55b6-4f74-d393-16ee386269ae",
        "colab": {
          "base_uri": "https://localhost:8080/",
          "height": 34
        }
      },
      "source": [
        "gc.collect()"
      ],
      "execution_count": 10,
      "outputs": [
        {
          "output_type": "execute_result",
          "data": {
            "text/plain": [
              "22"
            ]
          },
          "metadata": {
            "tags": []
          },
          "execution_count": 10
        }
      ]
    },
    {
      "cell_type": "code",
      "metadata": {
        "id": "4Sc2eA0Wh9iN",
        "colab_type": "code",
        "outputId": "440dba4b-bb39-46ff-bcd2-3fa8c8689766",
        "colab": {
          "base_uri": "https://localhost:8080/",
          "height": 34
        }
      },
      "source": [
        "fer = np.load('fer_data.npz')\n",
        "data,label = fer['data']/255,fer['label']\n",
        "data = (data - np.mean(data))/np.std(data)\n",
        "size_of_data = len(label)\n",
        "code = np.zeros((size_of_data,7))\n",
        "code[np.arange(size_of_data),label] = 1\n",
        "print(data[1].shape,code[1].shape)"
      ],
      "execution_count": 11,
      "outputs": [
        {
          "output_type": "stream",
          "text": [
            "(2304,) (7,)\n"
          ],
          "name": "stdout"
        }
      ]
    },
    {
      "cell_type": "code",
      "metadata": {
        "id": "17S_tyscindC",
        "colab_type": "code",
        "outputId": "99a2d33a-0861-426c-b47c-a93554190dc2",
        "colab": {
          "base_uri": "https://localhost:8080/",
          "height": 34
        }
      },
      "source": [
        "print(data.shape,code.shape)"
      ],
      "execution_count": 12,
      "outputs": [
        {
          "output_type": "stream",
          "text": [
            "(35887, 2304) (35887, 7)\n"
          ],
          "name": "stdout"
        }
      ]
    },
    {
      "cell_type": "code",
      "metadata": {
        "id": "FJGzqAbDi2BB",
        "colab_type": "code",
        "colab": {}
      },
      "source": [
        "ratio = 25000\n",
        "train_data =  data[:ratio]\n",
        "train_cls = label[:ratio]\n",
        "train_label = code[:ratio]\n",
        "validation_data = data[ratio:]\n",
        "validation_cls = label[ratio:]\n",
        "validation_label = code[ratio:]"
      ],
      "execution_count": 0,
      "outputs": []
    },
    {
      "cell_type": "code",
      "metadata": {
        "id": "oWPxrYEhnDiG",
        "colab_type": "code",
        "colab": {}
      },
      "source": [
        ""
      ],
      "execution_count": 0,
      "outputs": []
    },
    {
      "cell_type": "code",
      "metadata": {
        "id": "5cu02itUnnsg",
        "colab_type": "code",
        "colab": {}
      },
      "source": [
        "#image features\n",
        "\n",
        "img_size = 48\n",
        "img_size_flat = 2304\n",
        "img_shape = [48,48]\n",
        "img_shape_full = [48,48,1]\n",
        "num_classes = 7"
      ],
      "execution_count": 0,
      "outputs": []
    },
    {
      "cell_type": "code",
      "metadata": {
        "id": "DMbu91XinzVs",
        "colab_type": "code",
        "outputId": "f79005fe-a28b-498d-e7bc-6ff45c6fda56",
        "colab": {
          "base_uri": "https://localhost:8080/",
          "height": 284
        }
      },
      "source": [
        "def dataDistribution(label):\n",
        "    '''  0: -4593 images- Angry\n",
        "    1: -547 images- Disgust\n",
        "    2: -5121 images- Fear\n",
        "    3: -8989 images- Happy\n",
        "    4: -6077 images- Sad\n",
        "    5: -4002 images- Surprise\n",
        "    6: -6198 images- Neutral'''\n",
        "    figure = plt.figure()\n",
        "    ax = figure.add_subplot(1,1,1)\n",
        "    ax.hist(label, [0,1,2,3,4,5,6,7],rwidth = .25,align = 'left',color = '#CDCDEF')\n",
        "    ax.set_xticks([0,1,2,3,4,5,6,7])\n",
        "    ax.set_xticklabels(['Angry','Disgust','Fear','Happy','Sad','Surprise','Neutral'],\n",
        "                        rotation = 30,fontsize = 'small',color = '#C200F1')\n",
        "dataDistribution(label[30000:])\n"
      ],
      "execution_count": 15,
      "outputs": [
        {
          "output_type": "display_data",
          "data": {
            "image/png": "[encoded data removed]",
            "text/plain": [
              "<Figure size 432x288 with 1 Axes>"
            ]
          },
          "metadata": {
            "tags": []
          }
        }
      ]
    },
    {
      "cell_type": "code",
      "metadata": {
        "id": "Y7rz50IQoAWu",
        "colab_type": "code",
        "outputId": "febd9548-e4ec-4549-f96a-a6da4aaf1334",
        "colab": {
          "base_uri": "https://localhost:8080/",
          "height": 1000
        }
      },
      "source": [
        "def Model():\n",
        "    model = Sequential()\n",
        "    #model.add(InputLayer(input_shape=(img_size_flat,)))\n",
        "    #print(\"shape outputted by the Input layer: \",model.output_shape)\n",
        "    model.add(Reshape(img_shape_full))\n",
        "    \n",
        "    model.add(Conv2D(filters = 64,kernel_size = 5,input_shape = img_shape_full,activation = 'relu',strides = (1,1),name = 'layer_conv1'))\n",
        "   \n",
        "    model.add(MaxPooling2D(pool_size = (3,3),strides = (2,2)))\n",
        "    \n",
        "    model.add(BatchNormalization())\n",
        "    \n",
        "    model.add(Conv2D(filters = 64,kernel_size = 5,activation = 'relu',strides = (1,1),name = 'layer_conv2'))\n",
        "    \n",
        "    model.add(MaxPooling2D(pool_size = (3,3),strides = (2,2)))\n",
        "    \n",
        "    model.add(BatchNormalization())\n",
        "    \n",
        "    model.add(Conv2D(filters = 64,kernel_size = 4,activation = 'relu'))\n",
        "    \n",
        "    model.add(Dropout(rate = .3))\n",
        "    \n",
        "    model.add(Flatten())\n",
        "    \n",
        "    model.add(Dense(200,kernel_regularizer = l2(.002),activation = 'relu'))\n",
        "    \n",
        "    model.add(Dense(num_classes,activation = 'softmax'))\n",
        "    optimizer = Adam(.001)\n",
        "    model.compile(optimizer = optimizer,loss = 'categorical_crossentropy', metrics = ['accuracy'])\n",
        "    model.fit(x= train_data,y=train_label,epochs = 30,batch_size = 32,validation_split = .2)\n",
        "    result = model.evaluate(x = validation_data,y = validation_label)\n",
        "    for name,value in zip(model.metrics_names,result):\n",
        "        print('{0}: {1}'.format(name,value))\n",
        "    return model\n",
        "\n",
        "m = Model()"
      ],
      "execution_count": 22,
      "outputs": [
        {
          "output_type": "stream",
          "text": [
            "Train on 20000 samples, validate on 5000 samples\n",
            "Epoch 1/30\n",
            "20000/20000 [==============================] - 12s 593us/step - loss: 2.0206 - acc: 0.3849 - val_loss: 1.6551 - val_acc: 0.4610\n",
            "Epoch 2/30\n",
            "20000/20000 [==============================] - 11s 527us/step - loss: 1.5243 - acc: 0.4722 - val_loss: 1.4137 - val_acc: 0.5038\n",
            "Epoch 3/30\n",
            "20000/20000 [==============================] - 10s 523us/step - loss: 1.3574 - acc: 0.5144 - val_loss: 1.3282 - val_acc: 0.5362\n",
            "Epoch 4/30\n",
            "20000/20000 [==============================] - 10s 520us/step - loss: 1.2772 - acc: 0.5484 - val_loss: 1.3131 - val_acc: 0.5448\n",
            "Epoch 5/30\n",
            "20000/20000 [==============================] - 10s 521us/step - loss: 1.2122 - acc: 0.5695 - val_loss: 1.2721 - val_acc: 0.5660\n",
            "Epoch 6/30\n",
            "20000/20000 [==============================] - 10s 523us/step - loss: 1.1627 - acc: 0.5918 - val_loss: 1.2467 - val_acc: 0.5784\n",
            "Epoch 7/30\n",
            "20000/20000 [==============================] - 10s 519us/step - loss: 1.1146 - acc: 0.6149 - val_loss: 1.2516 - val_acc: 0.5758\n",
            "Epoch 8/30\n",
            "20000/20000 [==============================] - 10s 519us/step - loss: 1.0734 - acc: 0.6311 - val_loss: 1.2404 - val_acc: 0.5824\n",
            "Epoch 9/30\n",
            "20000/20000 [==============================] - 10s 519us/step - loss: 1.0370 - acc: 0.6420 - val_loss: 1.2905 - val_acc: 0.5770\n",
            "Epoch 10/30\n",
            "20000/20000 [==============================] - 10s 518us/step - loss: 0.9906 - acc: 0.6673 - val_loss: 1.3085 - val_acc: 0.5702\n",
            "Epoch 11/30\n",
            "20000/20000 [==============================] - 10s 514us/step - loss: 0.9536 - acc: 0.6839 - val_loss: 1.3543 - val_acc: 0.5798\n",
            "Epoch 12/30\n",
            "20000/20000 [==============================] - 10s 520us/step - loss: 0.9105 - acc: 0.7057 - val_loss: 1.3624 - val_acc: 0.5700\n",
            "Epoch 13/30\n",
            "20000/20000 [==============================] - 10s 516us/step - loss: 0.8808 - acc: 0.7125 - val_loss: 1.3887 - val_acc: 0.5828\n",
            "Epoch 14/30\n",
            "20000/20000 [==============================] - 10s 517us/step - loss: 0.8422 - acc: 0.7312 - val_loss: 1.3817 - val_acc: 0.5898\n",
            "Epoch 15/30\n",
            "20000/20000 [==============================] - 10s 517us/step - loss: 0.8156 - acc: 0.7410 - val_loss: 1.4037 - val_acc: 0.5924\n",
            "Epoch 16/30\n",
            "20000/20000 [==============================] - 10s 517us/step - loss: 0.7819 - acc: 0.7577 - val_loss: 1.4644 - val_acc: 0.5754\n",
            "Epoch 17/30\n",
            "20000/20000 [==============================] - 10s 518us/step - loss: 0.7534 - acc: 0.7698 - val_loss: 1.4773 - val_acc: 0.5858\n",
            "Epoch 18/30\n",
            "20000/20000 [==============================] - 10s 518us/step - loss: 0.7300 - acc: 0.7792 - val_loss: 1.5063 - val_acc: 0.5916\n",
            "Epoch 19/30\n",
            "20000/20000 [==============================] - 10s 517us/step - loss: 0.7077 - acc: 0.7898 - val_loss: 1.5456 - val_acc: 0.5664\n",
            "Epoch 20/30\n",
            "20000/20000 [==============================] - 10s 517us/step - loss: 0.6833 - acc: 0.7981 - val_loss: 1.5137 - val_acc: 0.5834\n",
            "Epoch 21/30\n",
            "20000/20000 [==============================] - 11s 529us/step - loss: 0.6563 - acc: 0.8090 - val_loss: 1.6363 - val_acc: 0.5742\n",
            "Epoch 22/30\n",
            "20000/20000 [==============================] - 10s 521us/step - loss: 0.6418 - acc: 0.8145 - val_loss: 1.5507 - val_acc: 0.5652\n",
            "Epoch 23/30\n",
            "20000/20000 [==============================] - 10s 515us/step - loss: 0.6240 - acc: 0.8237 - val_loss: 1.5507 - val_acc: 0.5944\n",
            "Epoch 24/30\n",
            "20000/20000 [==============================] - 10s 524us/step - loss: 0.6064 - acc: 0.8308 - val_loss: 1.5948 - val_acc: 0.5738\n",
            "Epoch 25/30\n",
            "20000/20000 [==============================] - 10s 517us/step - loss: 0.5918 - acc: 0.8374 - val_loss: 1.7737 - val_acc: 0.5844\n",
            "Epoch 26/30\n",
            "20000/20000 [==============================] - 10s 517us/step - loss: 0.5911 - acc: 0.8377 - val_loss: 1.7036 - val_acc: 0.5884\n",
            "Epoch 27/30\n",
            "20000/20000 [==============================] - 10s 518us/step - loss: 0.5572 - acc: 0.8504 - val_loss: 1.7030 - val_acc: 0.5950\n",
            "Epoch 28/30\n",
            "20000/20000 [==============================] - 10s 515us/step - loss: 0.5446 - acc: 0.8554 - val_loss: 1.7050 - val_acc: 0.5848\n",
            "Epoch 29/30\n",
            "20000/20000 [==============================] - 10s 517us/step - loss: 0.5448 - acc: 0.8583 - val_loss: 1.7913 - val_acc: 0.6006\n",
            "Epoch 30/30\n",
            "20000/20000 [==============================] - 10s 519us/step - loss: 0.5399 - acc: 0.8581 - val_loss: 1.8572 - val_acc: 0.5950\n",
            "10887/10887 [==============================] - 2s 175us/step\n",
            "loss: 1.8596731549267642\n",
            "acc: 0.5848259391976397\n"
          ],
          "name": "stdout"
        }
      ]
    },
    {
      "cell_type": "code",
      "metadata": {
        "id": "NpYhQJ7KrUcl",
        "colab_type": "code",
        "outputId": "65336ba0-83ad-4ba0-c9fa-1f5cba36e06e",
        "colab": {
          "base_uri": "https://localhost:8080/",
          "height": 590
        }
      },
      "source": [
        "import os\n",
        "\n",
        "m.summary()\n",
        "\n",
        "try:\n",
        "    os.remove('saved_model.h5')\n",
        "except FileNotFoundError as err:   \n",
        "    m.save('saved_model.h5')\n",
        "    print(\"model saved\")\n",
        "else:\n",
        "    m.save('saved_model.h5')\n",
        "    print(\"model_saved again\")\n"
      ],
      "execution_count": 23,
      "outputs": [
        {
          "output_type": "stream",
          "text": [
            "Model: \"sequential_2\"\n",
            "_________________________________________________________________\n",
            "Layer (type)                 Output Shape              Param #   \n",
            "=================================================================\n",
            "reshape_2 (Reshape)          (None, 48, 48, 1)         0         \n",
            "_________________________________________________________________\n",
            "layer_conv1 (Conv2D)         (None, 44, 44, 64)        1664      \n",
            "_________________________________________________________________\n",
            "max_pooling2d_3 (MaxPooling2 (None, 21, 21, 64)        0         \n",
            "_________________________________________________________________\n",
            "batch_normalization_3 (Batch (None, 21, 21, 64)        256       \n",
            "_________________________________________________________________\n",
            "layer_conv2 (Conv2D)         (None, 17, 17, 64)        102464    \n",
            "_________________________________________________________________\n",
            "max_pooling2d_4 (MaxPooling2 (None, 8, 8, 64)          0         \n",
            "_________________________________________________________________\n",
            "batch_normalization_4 (Batch (None, 8, 8, 64)          256       \n",
            "_________________________________________________________________\n",
            "conv2d_2 (Conv2D)            (None, 5, 5, 64)          65600     \n",
            "_________________________________________________________________\n",
            "dropout_2 (Dropout)          (None, 5, 5, 64)          0         \n",
            "_________________________________________________________________\n",
            "flatten_2 (Flatten)          (None, 1600)              0         \n",
            "_________________________________________________________________\n",
            "dense_3 (Dense)              (None, 200)               320200    \n",
            "_________________________________________________________________\n",
            "dense_4 (Dense)              (None, 7)                 1407      \n",
            "=================================================================\n",
            "Total params: 491,847\n",
            "Trainable params: 491,591\n",
            "Non-trainable params: 256\n",
            "_________________________________________________________________\n",
            "model_saved again\n"
          ],
          "name": "stdout"
        }
      ]
    },
    {
      "cell_type": "code",
      "metadata": {
        "id": "t_NOFSTfvpoJ",
        "colab_type": "code",
        "colab": {}
      },
      "source": [
        "del m"
      ],
      "execution_count": 0,
      "outputs": []
    },
    {
      "cell_type": "code",
      "metadata": {
        "id": "U8seAA-Lus3F",
        "colab_type": "code",
        "outputId": "db43fa0d-8b25-4bab-a23f-cf33ab53e2e3",
        "colab": {
          "base_uri": "https://localhost:8080/",
          "height": 573
        }
      },
      "source": [
        "from keras.models import load_model\n",
        "m_r = load_model('saved_model.h5')\n",
        "\n",
        "m_r.summary()"
      ],
      "execution_count": 19,
      "outputs": [
        {
          "output_type": "stream",
          "text": [
            "Model: \"sequential_1\"\n",
            "_________________________________________________________________\n",
            "Layer (type)                 Output Shape              Param #   \n",
            "=================================================================\n",
            "reshape_1 (Reshape)          (None, 48, 48, 1)         0         \n",
            "_________________________________________________________________\n",
            "layer_conv1 (Conv2D)         (None, 44, 44, 64)        1664      \n",
            "_________________________________________________________________\n",
            "max_pooling2d_1 (MaxPooling2 (None, 21, 21, 64)        0         \n",
            "_________________________________________________________________\n",
            "batch_normalization_1 (Batch (None, 21, 21, 64)        256       \n",
            "_________________________________________________________________\n",
            "layer_conv2 (Conv2D)         (None, 17, 17, 64)        102464    \n",
            "_________________________________________________________________\n",
            "max_pooling2d_2 (MaxPooling2 (None, 8, 8, 64)          0         \n",
            "_________________________________________________________________\n",
            "batch_normalization_2 (Batch (None, 8, 8, 64)          256       \n",
            "_________________________________________________________________\n",
            "conv2d_1 (Conv2D)            (None, 5, 5, 64)          65600     \n",
            "_________________________________________________________________\n",
            "dropout_1 (Dropout)          (None, 5, 5, 64)          0         \n",
            "_________________________________________________________________\n",
            "flatten_1 (Flatten)          (None, 1600)              0         \n",
            "_________________________________________________________________\n",
            "dense_1 (Dense)              (None, 200)               320200    \n",
            "_________________________________________________________________\n",
            "dense_2 (Dense)              (None, 7)                 1407      \n",
            "=================================================================\n",
            "Total params: 491,847\n",
            "Trainable params: 491,591\n",
            "Non-trainable params: 256\n",
            "_________________________________________________________________\n"
          ],
          "name": "stdout"
        }
      ]
    }
  ]
}